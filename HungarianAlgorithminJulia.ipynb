{
 "cells": [
  {
   "cell_type": "markdown",
   "metadata": {
    "collapsed": false
   },
   "source": [
    "VSE Jonah Heyl Hungarian algorithm\n",
    "This algorithm is based off other implementations found below"
   ]
  },
  {
   "cell_type": "code",
   "execution_count": 1,
   "metadata": {
    "collapsed": false
   },
   "outputs": [
   ],
   "source": [
    "using Statistics"
   ]
  },
  {
   "cell_type": "code",
   "execution_count": 15,
   "metadata": {
    "collapsed": false
   },
   "outputs": [
    {
     "data": {
      "text/plain": [
       "w (generic function with 1 method)"
      ]
     },
     "execution_count": 15,
     "metadata": {
     },
     "output_type": "execute_result"
    }
   ],
   "source": [
    "function w(v)\n",
    "    w=[]\n",
    "    ind=0\n",
    "    for i in v\n",
    "        ind=ind+1\n",
    "        if i\n",
    "            push!(w,ind)\n",
    "        end\n",
    "    end\n",
    "    return w\n",
    "end"
   ]
  },
  {
   "cell_type": "code",
   "execution_count": 4,
   "metadata": {
    "collapsed": false
   },
   "outputs": [
    {
     "data": {
      "text/plain": [
       "min_zero_row (generic function with 1 method)"
      ]
     },
     "execution_count": 4,
     "metadata": {
     },
     "output_type": "execute_result"
    }
   ],
   "source": [
    "function min_zero_row(zero_mat, mark_zero)\n",
    "    min_row = [99999, -1]\n",
    "    v=[]\n",
    "    for i in 1:size(zero_mat)[1]\n",
    "        count=0\n",
    "        for j in zero_mat[i,:]\n",
    "            if j\n",
    "                count=count+1\n",
    "            end\n",
    "        end\n",
    "        if count>0\n",
    "            push!(v,count)\n",
    "        else\n",
    "            push!(v,99999)\n",
    "        end\n",
    "    end\n",
    "    min_row=findmin(v)[2]\n",
    "    zero_index = w(zero_mat[min_row,:])\n",
    "\n",
    "    push!(mark_zero,((min_row, zero_index[1]))) \n",
    "    for i in 1:size(zero_mat)[1]\n",
    "        zero_mat[min_row[1], i] = false\n",
    "    end\n",
    "    for j in 1:size(zero_mat)[2]\n",
    "       zero_mat[j, zero_index[1]] = false\n",
    "    end\n",
    "    \n",
    "end\n",
    "    "
   ]
  },
  {
   "cell_type": "code",
   "execution_count": 6,
   "metadata": {
    "collapsed": false
   },
   "outputs": [
    {
     "data": {
      "text/plain": [
       "cov (generic function with 1 method)"
      ]
     },
     "execution_count": 6,
     "metadata": {
     },
     "output_type": "execute_result"
    }
   ],
   "source": [
    "function cov(S) #converts the set into a vector\n",
    "    v=[]\n",
    "    for i in S\n",
    "       push!(v,i)\n",
    "    end\n",
    "    return v\n",
    "end"
   ]
  },
  {
   "cell_type": "code",
   "execution_count": 8,
   "metadata": {
    "collapsed": false
   },
   "outputs": [
    {
     "data": {
      "text/plain": [
       "nope (generic function with 1 method)"
      ]
     },
     "execution_count": 8,
     "metadata": {
     },
     "output_type": "execute_result"
    }
   ],
   "source": [
    "function nope(cover_rows,row)\n",
    "    for x  in cover_rows\n",
    "        if (x == row)\n",
    "            return false\n",
    "        end\n",
    "    end\n",
    "    return true\n",
    "end"
   ]
  },
  {
   "cell_type": "code",
   "execution_count": 9,
   "metadata": {
    "collapsed": false
   },
   "outputs": [
    {
     "data": {
      "text/plain": [
       "mark_matrix (generic function with 1 method)"
      ]
     },
     "execution_count": 9,
     "metadata": {
     },
     "output_type": "execute_result"
    }
   ],
   "source": [
    "function mark_matrix(mat)\n",
    "    cur_mat = mat\n",
    "    v=[]\n",
    "    for x in cur_mat\n",
    "        if x==0\n",
    "            push!(v,true)\n",
    "        end\n",
    "        if x!=0\n",
    "            push!(v,false)\n",
    "        end\n",
    "    end\n",
    "    zero_bool_mat= reshape(v,size(cur_mat))\n",
    "    zero_bool_mat_copy = copy(zero_bool_mat)\n",
    "    marked_zero = []\n",
    "    while (true in zero_bool_mat_copy)\n",
    "        min_zero_row(zero_bool_mat_copy, marked_zero)\n",
    "    end\n",
    "    marked_zero_row = []\n",
    "    marked_zero_col = []\n",
    "    for i in 1:size(marked_zero)[1]\n",
    "        push!(marked_zero_row,(marked_zero[i,1]))\n",
    "        push!(marked_zero_col,(marked_zero[i,1]))\n",
    "    end\n",
    "    non_marked_row=cov(setdiff(Set(1:size(cur_mat)[1]),Set(marked_zero_row)))\n",
    "    marked_cols=[]\n",
    "    check_switch = true\n",
    "    while check_switch\n",
    "        check_switch = false\n",
    "        for i in 1:size(non_marked_row)[1] \n",
    "            row_array = zero_bool_mat[non_marked_row[i],:]\n",
    "            for j in 1:size(row_array)[1]\n",
    "                if row_array[j] == true && nope(marked_cols,j)\n",
    "                    push!(marked_cols,j)\n",
    "                    check_switch = true\n",
    "                end\n",
    "            end\n",
    "        end\n",
    "    end\n",
    "    for row_num in marked_zero\n",
    "            for col_num in marked_zero\n",
    "                if nope(non_marked_row,row_num) && nope(marked_cols,col_num)==false\n",
    "                    push!(non_marked_row,row_num)\n",
    "                    check_switch = true\n",
    "                end\n",
    "            end\n",
    "    end\n",
    "    marked_rows = cov(setdiff(Set(1:size(mat)[1]),Set(non_marked_row)))\n",
    "\n",
    "    return(marked_zero, marked_rows, marked_cols)\n",
    "end"
   ]
  },
  {
   "cell_type": "code",
   "execution_count": 10,
   "metadata": {
    "collapsed": false
   },
   "outputs": [
    {
     "data": {
      "text/plain": [
       "adjust_matrix (generic function with 1 method)"
      ]
     },
     "execution_count": 10,
     "metadata": {
     },
     "output_type": "execute_result"
    }
   ],
   "source": [
    "function adjust_matrix(mat, cover_rows, cover_cols)\n",
    "    cur_mat = mat\n",
    "    non_zero_element = []\n",
    "    for row in 1:size(cur_mat)[1]\n",
    "        if nope(cover_rows,row)\n",
    "            for i in 1:size(cur_mat[row])\n",
    "                if nope(cover_cols,i)\n",
    "                    push!(non_zero_element,cur_mat[row][i])\n",
    "                end\n",
    "            end\n",
    "        end\n",
    "    end\n",
    "    min_num = findmin(non_zero_element)[1]\n",
    "\n",
    "     \n",
    "    for row in 1:size(cur_mat)[1]\n",
    "        if nope(cover_rows,row)\n",
    "            for i in 1:size(cur_mat[row])[1]\n",
    "                if nope(cover_cols,i)\n",
    "                    cur_mat[row, i] = cur_mat[row][i] - min_num\n",
    "                end\n",
    "            end\n",
    "        end\n",
    "    end\n",
    "  \n",
    "\n",
    "    for row in 1:size(cover_rows)[1]\n",
    "        for col in 1:size(cover_cols)[1]\n",
    "            cur_mat[cover_rows[row], cover_cols[col]] = cur_mat[cover_rows[row], cover_cols[col]] + min_num\n",
    "        end\n",
    "    end\n",
    "    return cur_mat\n",
    "end"
   ]
  },
  {
   "cell_type": "code",
   "execution_count": 11,
   "metadata": {
    "collapsed": false
   },
   "outputs": [
    {
     "data": {
      "text/plain": [
       "hungarian_algorithm (generic function with 1 method)"
      ]
     },
     "execution_count": 11,
     "metadata": {
     },
     "output_type": "execute_result"
    }
   ],
   "source": [
    "function hungarian_algorithm(mat)\n",
    "    ans_pos=0\n",
    "    cur_mat = mat\n",
    "\n",
    "    for row_num in 1:size(mat)[1]\n",
    "        cur_mat[row_num] = cur_mat[row_num] .- findmin(cur_mat[row_num])[1]\n",
    "    end\n",
    "    \n",
    "    for col_num in 1:size(mat)[2]\n",
    "        cur_mat[:,col_num] = cur_mat[:,col_num] .- findmin(cur_mat[:,col_num])[1]\n",
    "    end\n",
    "    zero_count = 0\n",
    "\n",
    "    while zero_count < size(mat)[1]\n",
    "\n",
    "        ans_pos, marked_rows, marked_cols =mark_matrix(cur_mat)\n",
    "\n",
    "        zero_count = size(marked_rows)[1] + size(marked_cols)[1]        \n",
    "        if zero_count < size(mat)[1]\n",
    "            cur_mat = adjust_matrix(cur_mat, marked_rows, marked_cols)\n",
    "        end\n",
    "    end\n",
    "\n",
    "    return ans_pos\n",
    "end\n",
    "            "
   ]
  },
  {
   "cell_type": "code",
   "execution_count": 55,
   "metadata": {
    "collapsed": false
   },
   "outputs": [
    {
     "data": {
      "text/plain": [
       "(4, 1)"
      ]
     },
     "execution_count": 55,
     "metadata": {
     },
     "output_type": "execute_result"
    }
   ],
   "source": [
    "findmin([4,5,6])"
   ]
  },
  {
   "cell_type": "code",
   "execution_count": 13,
   "metadata": {
    "collapsed": false
   },
   "outputs": [
    {
     "data": {
      "text/plain": [
       "ans_calculation (generic function with 1 method)"
      ]
     },
     "execution_count": 13,
     "metadata": {
     },
     "output_type": "execute_result"
    }
   ],
   "source": [
    "function ans_calculation(mat, pos)\n",
    "    total = 0\n",
    "    ans_mat = zeros(size(mat))\n",
    "    for i in 1:size(pos)[1]\n",
    "        total = total + (mat[pos[i][1], pos[i][2]])\n",
    "        ans_mat[pos[i][1], pos[i][2]] = mat[pos[i][1], pos[i][2]]\n",
    "    end\n",
    "    return total, ans_mat\n",
    "end"
   ]
  },
  {
   "cell_type": "code",
   "execution_count": 51,
   "metadata": {
    "collapsed": false
   },
   "outputs": [
    {
     "data": {
      "text/plain": [
       "3×3 Matrix{Int64}:\n",
       " 4  5  2\n",
       " 9  1  7\n",
       " 8  5  2"
      ]
     },
     "execution_count": 51,
     "metadata": {
     },
     "output_type": "execute_result"
    }
   ],
   "source": [
    "A= rand(1:10,(3, 3))"
   ]
  },
  {
   "cell_type": "code",
   "execution_count": 52,
   "metadata": {
    "collapsed": false
   },
   "outputs": [
    {
     "data": {
      "text/plain": [
       "3-element Vector{Any}:\n",
       " (1, 1)\n",
       " (2, 2)\n",
       " (3, 3)"
      ]
     },
     "execution_count": 52,
     "metadata": {
     },
     "output_type": "execute_result"
    }
   ],
   "source": [
    "ans_pos = hungarian_algorithm(copy(A))"
   ]
  },
  {
   "cell_type": "code",
   "execution_count": 53,
   "metadata": {
    "collapsed": false,
    "scrolled": true
   },
   "outputs": [
    {
     "data": {
      "text/plain": [
       "(7, [4.0 0.0 0.0; 0.0 1.0 0.0; 0.0 0.0 2.0])"
      ]
     },
     "execution_count": 53,
     "metadata": {
     },
     "output_type": "execute_result"
    }
   ],
   "source": [
    "res=ans_calculation(copy(A),ans_pos)"
   ]
  },
  {
   "cell_type": "code",
   "execution_count": 54,
   "metadata": {
    "collapsed": false
   },
   "outputs": [
    {
     "data": {
      "text/plain": [
       "3×3 Matrix{Float64}:\n",
       " 4.0  0.0  0.0\n",
       " 0.0  1.0  0.0\n",
       " 0.0  0.0  2.0"
      ]
     },
     "execution_count": 54,
     "metadata": {
     },
     "output_type": "execute_result"
    }
   ],
   "source": [
    "res[2]"
   ]
  },
  {
   "cell_type": "markdown",
   "metadata": {
    "collapsed": false
   },
   "source": [
    "Also See:\n",
    "https://launchpad.net/lib-bipartite-match\n",
    "http://software.clapper.org/munkres/\n",
    "https://en.wikipedia.org/wiki/Hungarian_algorithm\n",
    "https://github.com/KevinStern/software-and-algorithms/blob/master/src/main/java/blogspot/software_and_algorithms/stern_library/optimization/HungarianAlgorithm.java\n",
    "https://python.plainenglish.io/hungarian-algorithm-introduction-python-implementation-93e7c0890e15\n",
    "https://github.com/maandree/hungarian-algorithm-n3/blob/master/hungarian.c"
   ]
  },
  {
   "cell_type": "code",
   "execution_count": 0,
   "metadata": {
    "collapsed": false
   },
   "outputs": [
   ],
   "source": [
   ]
  }
 ],
 "metadata": {
  "kernelspec": {
   "display_name": "Julia 1.6.1",
   "env": {
   },
   "interrupt_mode": "signal",
   "language": "julia",
   "name": "julia-1.6",
   "resource_dir": "/usr/local/share/jupyter/kernels/julia-1.6"
  },
  "language_info": {
   "file_extension": ".jl",
   "mimetype": "application/julia",
   "name": "julia",
   "version": "1.6.1"
  }
 },
 "nbformat": 4,
 "nbformat_minor": 4
}